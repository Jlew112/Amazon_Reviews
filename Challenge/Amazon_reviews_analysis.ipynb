{
 "cells": [
  {
   "cell_type": "code",
   "execution_count": 10,
   "id": "ac2d85d4",
   "metadata": {},
   "outputs": [],
   "source": [
    "# Import Dependencies\n",
    "import pandas as pd\n",
    "import numpy as np"
   ]
  },
  {
   "cell_type": "code",
   "execution_count": 3,
   "id": "9067ba89",
   "metadata": {},
   "outputs": [
    {
     "data": {
      "text/html": [
       "<div>\n",
       "<style scoped>\n",
       "    .dataframe tbody tr th:only-of-type {\n",
       "        vertical-align: middle;\n",
       "    }\n",
       "\n",
       "    .dataframe tbody tr th {\n",
       "        vertical-align: top;\n",
       "    }\n",
       "\n",
       "    .dataframe thead th {\n",
       "        text-align: right;\n",
       "    }\n",
       "</style>\n",
       "<table border=\"1\" class=\"dataframe\">\n",
       "  <thead>\n",
       "    <tr style=\"text-align: right;\">\n",
       "      <th></th>\n",
       "      <th>review_id</th>\n",
       "      <th>star_rating</th>\n",
       "      <th>helpful_votes</th>\n",
       "      <th>total_votes</th>\n",
       "      <th>vine</th>\n",
       "      <th>verified_purchase</th>\n",
       "    </tr>\n",
       "  </thead>\n",
       "  <tbody>\n",
       "    <tr>\n",
       "      <th>0</th>\n",
       "      <td>RTIS3L2M1F5SM</td>\n",
       "      <td>5</td>\n",
       "      <td>0</td>\n",
       "      <td>0</td>\n",
       "      <td>N</td>\n",
       "      <td>Y</td>\n",
       "    </tr>\n",
       "    <tr>\n",
       "      <th>1</th>\n",
       "      <td>R1ZV7R40OLHKD</td>\n",
       "      <td>5</td>\n",
       "      <td>0</td>\n",
       "      <td>0</td>\n",
       "      <td>N</td>\n",
       "      <td>Y</td>\n",
       "    </tr>\n",
       "    <tr>\n",
       "      <th>2</th>\n",
       "      <td>R3BH071QLH8QMC</td>\n",
       "      <td>1</td>\n",
       "      <td>0</td>\n",
       "      <td>1</td>\n",
       "      <td>N</td>\n",
       "      <td>Y</td>\n",
       "    </tr>\n",
       "    <tr>\n",
       "      <th>3</th>\n",
       "      <td>R127K9NTSXA2YH</td>\n",
       "      <td>3</td>\n",
       "      <td>0</td>\n",
       "      <td>0</td>\n",
       "      <td>N</td>\n",
       "      <td>Y</td>\n",
       "    </tr>\n",
       "    <tr>\n",
       "      <th>4</th>\n",
       "      <td>R32ZWUXDJPW27Q</td>\n",
       "      <td>4</td>\n",
       "      <td>0</td>\n",
       "      <td>0</td>\n",
       "      <td>N</td>\n",
       "      <td>Y</td>\n",
       "    </tr>\n",
       "  </tbody>\n",
       "</table>\n",
       "</div>"
      ],
      "text/plain": [
       "        review_id  star_rating  helpful_votes  total_votes vine  \\\n",
       "0   RTIS3L2M1F5SM            5              0            0    N   \n",
       "1   R1ZV7R40OLHKD            5              0            0    N   \n",
       "2  R3BH071QLH8QMC            1              0            1    N   \n",
       "3  R127K9NTSXA2YH            3              0            0    N   \n",
       "4  R32ZWUXDJPW27Q            4              0            0    N   \n",
       "\n",
       "  verified_purchase  \n",
       "0                 Y  \n",
       "1                 Y  \n",
       "2                 Y  \n",
       "3                 Y  \n",
       "4                 Y  "
      ]
     },
     "execution_count": 3,
     "metadata": {},
     "output_type": "execute_result"
    }
   ],
   "source": [
    "vine_df = pd.read_csv('vine_df.csv', encoding='utf-8')\n",
    "vine_df.head()"
   ]
  },
  {
   "cell_type": "code",
   "execution_count": 24,
   "id": "cd413c42",
   "metadata": {},
   "outputs": [
    {
     "data": {
      "text/plain": [
       "review_id            1785997\n",
       "star_rating          1785997\n",
       "helpful_votes        1785997\n",
       "total_votes          1785997\n",
       "vine                 1785997\n",
       "verified_purchase    1785997\n",
       "dtype: int64"
      ]
     },
     "execution_count": 24,
     "metadata": {},
     "output_type": "execute_result"
    }
   ],
   "source": [
    "vine_df.count()"
   ]
  },
  {
   "cell_type": "code",
   "execution_count": 16,
   "id": "b796095b",
   "metadata": {},
   "outputs": [
    {
     "data": {
      "text/plain": [
       "review_id            65379\n",
       "star_rating          65379\n",
       "helpful_votes        65379\n",
       "total_votes          65379\n",
       "vine                 65379\n",
       "verified_purchase    65379\n",
       "dtype: int64"
      ]
     },
     "execution_count": 16,
     "metadata": {},
     "output_type": "execute_result"
    }
   ],
   "source": [
    "filtered_vine_df = vine_df.loc[vine_df['total_votes'] > 19, :]\n",
    "filtered_vine_df.count()"
   ]
  },
  {
   "cell_type": "code",
   "execution_count": 15,
   "id": "7f058dfc",
   "metadata": {},
   "outputs": [
    {
     "data": {
      "text/plain": [
       "review_id        40565\n",
       "star_rating      40565\n",
       "helpful_votes    40565\n",
       "total_votes      40565\n",
       "vine             40565\n",
       "dtype: int64"
      ]
     },
     "execution_count": 15,
     "metadata": {},
     "output_type": "execute_result"
    }
   ],
   "source": [
    "help_vine_df = filtered_vine_df.loc[(filtered_vine_df['helpful_votes']/filtered_vine_df['total_votes'])>=.5]\n",
    "help_vine_df.count()"
   ]
  },
  {
   "cell_type": "code",
   "execution_count": 17,
   "id": "cbb5d46f",
   "metadata": {},
   "outputs": [
    {
     "data": {
      "text/plain": [
       "review_id            94\n",
       "star_rating          94\n",
       "helpful_votes        94\n",
       "total_votes          94\n",
       "vine                 94\n",
       "verified_purchase    94\n",
       "dtype: int64"
      ]
     },
     "execution_count": 17,
     "metadata": {},
     "output_type": "execute_result"
    }
   ],
   "source": [
    "yes_vine_review_df = help_vine_df.loc[help_vine_df['vine'] == 'Y']\n",
    "yes_vine_review_df.count()"
   ]
  },
  {
   "cell_type": "code",
   "execution_count": 18,
   "id": "b91e4459",
   "metadata": {},
   "outputs": [
    {
     "data": {
      "text/plain": [
       "review_id            40471\n",
       "star_rating          40471\n",
       "helpful_votes        40471\n",
       "total_votes          40471\n",
       "vine                 40471\n",
       "verified_purchase    40471\n",
       "dtype: int64"
      ]
     },
     "execution_count": 18,
     "metadata": {},
     "output_type": "execute_result"
    }
   ],
   "source": [
    "no_vine_review_df = help_vine_df.loc[help_vine_df['vine'] == 'N']\n",
    "no_vine_review_df.count()"
   ]
  },
  {
   "cell_type": "code",
   "execution_count": 26,
   "id": "090e5cc4",
   "metadata": {},
   "outputs": [
    {
     "data": {
      "text/plain": [
       "N    1025317\n",
       "Y       1607\n",
       "Name: vine, dtype: int64"
      ]
     },
     "execution_count": 26,
     "metadata": {},
     "output_type": "execute_result"
    }
   ],
   "source": [
    "fivestars_df = vine_df.loc[vine_df['star_rating'] == 5, :]\n",
    "fivestars_df['vine'].value_counts()"
   ]
  },
  {
   "cell_type": "code",
   "execution_count": 27,
   "id": "39eeade8",
   "metadata": {},
   "outputs": [
    {
     "data": {
      "text/plain": [
       "5    48\n",
       "4    24\n",
       "3    16\n",
       "2     5\n",
       "1     1\n",
       "Name: star_rating, dtype: int64"
      ]
     },
     "execution_count": 27,
     "metadata": {},
     "output_type": "execute_result"
    }
   ],
   "source": [
    "yes_vine_review_df['star_rating'].value_counts()"
   ]
  },
  {
   "cell_type": "code",
   "execution_count": 28,
   "id": "4cdd49f5",
   "metadata": {},
   "outputs": [
    {
     "data": {
      "text/plain": [
       "5    15663\n",
       "1    10303\n",
       "4     6738\n",
       "3     4379\n",
       "2     3388\n",
       "Name: star_rating, dtype: int64"
      ]
     },
     "execution_count": 28,
     "metadata": {},
     "output_type": "execute_result"
    }
   ],
   "source": [
    "no_vine_review_df['star_rating'].value_counts()"
   ]
  },
  {
   "cell_type": "code",
   "execution_count": 29,
   "id": "16c96524",
   "metadata": {},
   "outputs": [
    {
     "data": {
      "text/plain": [
       "5    1026924\n",
       "4     318246\n",
       "1     192166\n",
       "3     153864\n",
       "2      94797\n",
       "Name: star_rating, dtype: int64"
      ]
     },
     "execution_count": 29,
     "metadata": {},
     "output_type": "execute_result"
    }
   ],
   "source": [
    "vine_df['star_rating'].value_counts()"
   ]
  },
  {
   "cell_type": "code",
   "execution_count": 30,
   "id": "5139ddc7",
   "metadata": {},
   "outputs": [
    {
     "data": {
      "text/plain": [
       "5    15711\n",
       "1    10304\n",
       "4     6762\n",
       "3     4395\n",
       "2     3393\n",
       "Name: star_rating, dtype: int64"
      ]
     },
     "execution_count": 30,
     "metadata": {},
     "output_type": "execute_result"
    }
   ],
   "source": [
    "help_vine_df['star_rating'].value_counts()"
   ]
  },
  {
   "cell_type": "code",
   "execution_count": null,
   "id": "7935ba4e",
   "metadata": {},
   "outputs": [],
   "source": [
    "#Total reviews = 1785997\n",
    "#Total reviews where votes > 19 = 65379\n",
    "#Total reviews where (helpful/total votes >50%) = 40565\n",
    "#Total reviews with vine program = 94\n",
    "#Total reviews not in vine program = 40471\n",
    "#Total 5* reviews = 1026924\n",
    "#Total 5* reviews where vine is Y (paid?) = 1607    % = .001\n",
    "#Total 5* reviews where vine is N (unpaid?) = 1025317   %= .998\n",
    "#or am I supposed ot find the 5* reviews that were helpful? and take that percentage?"
   ]
  }
 ],
 "metadata": {
  "kernelspec": {
   "display_name": "Python 3",
   "language": "python",
   "name": "python3"
  },
  "language_info": {
   "codemirror_mode": {
    "name": "ipython",
    "version": 3
   },
   "file_extension": ".py",
   "mimetype": "text/x-python",
   "name": "python",
   "nbconvert_exporter": "python",
   "pygments_lexer": "ipython3",
   "version": "3.7.10"
  }
 },
 "nbformat": 4,
 "nbformat_minor": 5
}
